{
 "cells": [
  {
   "cell_type": "code",
   "execution_count": 8,
   "metadata": {
    "collapsed": false
   },
   "outputs": [],
   "source": [
    "import pandas\n",
    "\n",
    "global xvalues\n",
    "global yvalues\n",
    "\n",
    "class PreProcess:\n",
    " \n",
    "\n",
    "\n",
    "    def ColumnSelectorForX(self):\n",
    "\n",
    "        PreProcessed = pandas.read_csv('/Users/MAC/HRDiagram/hygdata_v3.csv')\n",
    "\n",
    "        xcolumn = ['ci']\n",
    "\n",
    "        xvalues = PreProcessed[xcolumn]\n",
    "    \n",
    "        return xvalues\n",
    "        \n",
    "   \n",
    "    def ColumnSelectorForY(self):\n",
    "\n",
    "        PreProcessed = pandas.read_csv('/Users/MAC/HRDiagram/hygdata_v3.csv')\n",
    "        \n",
    "        ycolumn = ['absmag']\n",
    "        \n",
    "        yvalues = PreProcessed[ycolumn]\n",
    "        \n",
    "        return yvalues"
   ]
  },
  {
   "cell_type": "code",
   "execution_count": 9,
   "metadata": {
    "collapsed": false
   },
   "outputs": [
    {
     "ename": "NameError",
     "evalue": "name 'xvalues' is not defined",
     "output_type": "error",
     "traceback": [
      "\u001b[0;31m---------------------------------------------------------------------------\u001b[0m",
      "\u001b[0;31mNameError\u001b[0m                                 Traceback (most recent call last)",
      "\u001b[0;32m<ipython-input-9-0a315d516607>\u001b[0m in \u001b[0;36m<module>\u001b[0;34m()\u001b[0m\n\u001b[0;32m----> 1\u001b[0;31m \u001b[0;32mprint\u001b[0m \u001b[0mxvalues\u001b[0m\u001b[0;34m\u001b[0m\u001b[0m\n\u001b[0m",
      "\u001b[0;31mNameError\u001b[0m: name 'xvalues' is not defined"
     ]
    }
   ],
   "source": [
    "print xvalues"
   ]
  },
  {
   "cell_type": "code",
   "execution_count": null,
   "metadata": {
    "collapsed": true
   },
   "outputs": [],
   "source": []
  }
 ],
 "metadata": {
  "kernelspec": {
   "display_name": "Python 2",
   "language": "python",
   "name": "python2"
  },
  "language_info": {
   "codemirror_mode": {
    "name": "ipython",
    "version": 2
   },
   "file_extension": ".py",
   "mimetype": "text/x-python",
   "name": "python",
   "nbconvert_exporter": "python",
   "pygments_lexer": "ipython2",
   "version": "2.7.13"
  }
 },
 "nbformat": 4,
 "nbformat_minor": 2
}
