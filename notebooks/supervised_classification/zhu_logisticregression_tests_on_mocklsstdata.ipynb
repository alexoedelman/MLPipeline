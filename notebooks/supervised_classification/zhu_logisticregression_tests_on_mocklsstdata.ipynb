{
 "cells": [
  {
   "cell_type": "code",
   "execution_count": 1,
   "metadata": {
    "collapsed": false
   },
   "outputs": [
    {
     "name": "stderr",
     "output_type": "stream",
     "text": [
      "/Users/Ralph/anaconda/lib/python2.7/site-packages/sklearn/cross_validation.py:44: DeprecationWarning: This module was deprecated in version 0.18 in favor of the model_selection module into which all the refactored classes and functions are moved. Also note that the interface of the new CV iterators are different from that of this module. This module will be removed in 0.20.\n",
      "  \"This module will be removed in 0.20.\", DeprecationWarning)\n"
     ]
    }
   ],
   "source": [
    "import sys\n",
    "sys.path.append('/Users/Ralph/Desktop/astro/45500')\n",
    "from sklearn.cross_validation import train_test_split\n",
    "from MLPipeline.IO.config_parser import parse_configfile\n",
    "from MLPipeline.IO.collect_classes import get_two_classes\n",
    "from MLPipeline.gridsearch._tools import build_parameter_grid, grid_search\n",
    "from sklearn.pipeline import Pipeline\n",
    "import time\n",
    "%matplotlib inline"
   ]
  },
  {
   "cell_type": "code",
   "execution_count": 2,
   "metadata": {
    "collapsed": false
   },
   "outputs": [],
   "source": [
    "# Load the data and the labels\n",
    "X, y = get_two_classes('/Users/Ralph/Desktop/astro/45500/LSST/~avestruz/LSST/nonlens/*', '/Users/Ralph/Desktop/astro/45500/LSST/~avestruz/LSST/lens/*')"
   ]
  },
  {
   "cell_type": "code",
   "execution_count": 3,
   "metadata": {
    "collapsed": true
   },
   "outputs": [],
   "source": [
    "# Split the dataset and labels into training and testing subsets (collect first 100, which are non-lens,\n",
    "# and last hundred, which are lens)                                                \n",
    "X_train, X_test, y_train, y_test = train_test_split( X[:100]+X[-100:], y[:100]+y[-100:], test_size=0.2 )"
   ]
  },
  {
   "cell_type": "code",
   "execution_count": 4,
   "metadata": {
    "collapsed": false
   },
   "outputs": [
    {
     "name": "stderr",
     "output_type": "stream",
     "text": [
      "/Users/Ralph/anaconda/lib/python2.7/site-packages/skimage/feature/_hog.py:119: skimage_deprecation: Default value of `block_norm`==`L1` is deprecated and will be changed to `L2-Hys` in v0.15\n",
      "  'be changed to `L2-Hys` in v0.15', skimage_deprecation)\n"
     ]
    },
    {
     "data": {
      "text/plain": [
       "array([1, 1, 1, 0, 0, 0, 0, 0, 0, 1, 1, 0, 0, 0, 0, 0, 0, 0, 0, 1, 0, 0, 1,\n",
       "       0, 0, 0, 0, 0, 0, 0, 0, 0, 0, 1, 0, 0, 0, 1, 0, 1])"
      ]
     },
     "execution_count": 4,
     "metadata": {},
     "output_type": "execute_result"
    }
   ],
   "source": [
    "# Build the estimators and feed into the pipeline      \n",
    "from sklearn.linear_model import LogisticRegression\n",
    "from MLPipeline.features.feature_extraction import HOG\n",
    "feature_selection = [('hog', HOG())]\n",
    "classifier = [('logistic_regression', LogisticRegression())]\n",
    "\n",
    "estimators = feature_selection+classifier\n",
    "\n",
    "pipeline = Pipeline(estimators)\n",
    "\n",
    "pipeline.fit(X_train, y_train)\n",
    "\n",
    "pipeline.predict(X_test)\n"
   ]
  },
  {
   "cell_type": "code",
   "execution_count": 5,
   "metadata": {
    "collapsed": false
   },
   "outputs": [],
   "source": [
    "# Create the grid search with list of parameters                                                             \n",
    "# to search                                                                                                  \n",
    "param_grid = [{'hog__orientations' : (4, 5,),\n",
    "                'hog__pixels_per_cell' : ((4, 4),),\n",
    "                'hog__cells_per_block' : ((2, 2),),\n",
    "                'logistic_regression__C' : (1.,10.),\n",
    "                }]\n"
   ]
  },
  {
   "cell_type": "code",
   "execution_count": 6,
   "metadata": {
    "collapsed": false
   },
   "outputs": [
    {
     "name": "stderr",
     "output_type": "stream",
     "text": [
      "/Users/Ralph/anaconda/lib/python2.7/site-packages/sklearn/grid_search.py:43: DeprecationWarning: This module was deprecated in version 0.18 in favor of the model_selection module into which all the refactored classes and functions are moved. This module will be removed in 0.20.\n",
      "  DeprecationWarning)\n"
     ]
    }
   ],
   "source": [
    "# Compose a grid search from the extimators in the pipeline and the corresponding grid parameters\n",
    "from sklearn.grid_search import GridSearchCV\n",
    "grid_search = GridSearchCV(pipeline, param_grid,\n",
    "                               n_jobs = -1)"
   ]
  },
  {
   "cell_type": "code",
   "execution_count": 7,
   "metadata": {
    "collapsed": false
   },
   "outputs": [
    {
     "name": "stdout",
     "output_type": "stream",
     "text": [
      "Time Taken:  2.76754999161\n"
     ]
    }
   ],
   "source": [
    "# Run the grid search on the training set\n",
    "start_time = time.time()\n",
    "grid_search.fit(X_train,y_train)\n",
    "print \"Time Taken: \", time.time() - start_time"
   ]
  },
  {
   "cell_type": "code",
   "execution_count": 8,
   "metadata": {
    "collapsed": false
   },
   "outputs": [
    {
     "data": {
      "text/plain": [
       "0.59375"
      ]
     },
     "execution_count": 8,
     "metadata": {},
     "output_type": "execute_result"
    }
   ],
   "source": [
    "# Take a look at the best score\n",
    "grid_search.best_score_"
   ]
  },
  {
   "cell_type": "code",
   "execution_count": 9,
   "metadata": {
    "collapsed": false
   },
   "outputs": [
    {
     "data": {
      "text/plain": [
       "{'hog__cells_per_block': (2, 2),\n",
       " 'hog__orientations': 5,\n",
       " 'hog__pixels_per_cell': (4, 4),\n",
       " 'logistic_regression__C': 10.0}"
      ]
     },
     "execution_count": 9,
     "metadata": {},
     "output_type": "execute_result"
    }
   ],
   "source": [
    "# Take a look at the parameters that output the best score\n",
    "grid_search.best_params_"
   ]
  },
  {
   "cell_type": "code",
   "execution_count": 10,
   "metadata": {
    "collapsed": false
   },
   "outputs": [],
   "source": [
    "# Short function to print the confusion matrix for predicted scores\n",
    "def confusion_matrix(predicted, actual):\n",
    "    '''                                                                                                          \n",
    "    | Outputs (what model thinks it is, what it is) \n",
    "    \n",
    "    '''\n",
    "    import numpy as np\n",
    "    from collections import Counter\n",
    "    predicted, actual = map(np.array, [predicted, actual])\n",
    "    return Counter(zip(predicted, actual))\n"
   ]
  },
  {
   "cell_type": "code",
   "execution_count": 11,
   "metadata": {
    "collapsed": false
   },
   "outputs": [
    {
     "name": "stdout",
     "output_type": "stream",
     "text": [
      "Train score: 1.0\n",
      "Test score: 0.65\n"
     ]
    }
   ],
   "source": [
    "# Show score for training set and test set using best parameters                                                          \n",
    "print 'Train score:', grid_search.score(X_train, y_train)\n",
    "print 'Test score:', grid_search.score(X_test, y_test)"
   ]
  },
  {
   "cell_type": "code",
   "execution_count": 12,
   "metadata": {
    "collapsed": false
   },
   "outputs": [
    {
     "name": "stdout",
     "output_type": "stream",
     "text": [
      "train matrix Counter({(0, 0): 81, (1, 1): 79})\n",
      "test matrix Counter({(0, 0): 14, (1, 1): 12, (0, 1): 9, (1, 0): 5})\n"
     ]
    }
   ],
   "source": [
    "# Show confusion matrix for test set using best parameters\n",
    "print 'train matrix', confusion_matrix(grid_search.predict(X_train), y_train)\n",
    "print 'test matrix', confusion_matrix(grid_search.predict(X_test), y_test)"
   ]
  },
  {
   "cell_type": "code",
   "execution_count": 13,
   "metadata": {
    "collapsed": false
   },
   "outputs": [
    {
     "data": {
      "text/plain": [
       "[<matplotlib.lines.Line2D at 0x11ce91f50>]"
      ]
     },
     "execution_count": 13,
     "metadata": {},
     "output_type": "execute_result"
    },
    {
     "data": {
      "image/png": "[encoded data removed]",
      "text/plain": [
       "<matplotlib.figure.Figure at 0x1185a6a90>"
      ]
     },
     "metadata": {},
     "output_type": "display_data"
    }
   ],
   "source": [
    "#Plotting ROC Curve\n",
    "import numpy as np\n",
    "from sklearn import metrics\n",
    "\n",
    "\n",
    "\n",
    "fpr,tpr,threshold=metrics.roc_curve(y_test, pipeline.predict(X_test))\n",
    "\n",
    "\n",
    "from matplotlib import pyplot as plt\n",
    "x=fpr\n",
    "y=tpr\n",
    "plt.plot([0, 1], [0, 1], color='navy', linestyle='--')\n",
    "plt.xlim([0.0, 1.0])\n",
    "plt.ylim([0.0, 1.05])\n",
    "plt.plot(x,y)\n",
    "\n"
   ]
  },
  {
   "cell_type": "code",
   "execution_count": 14,
   "metadata": {
    "collapsed": false
   },
   "outputs": [
    {
     "data": {
      "image/png": "[encoded data removed]",
      "text/plain": [
       "<matplotlib.figure.Figure at 0x11d6b3150>"
      ]
     },
     "metadata": {},
     "output_type": "display_data"
    }
   ],
   "source": [
    "#visulization of HOG\n",
    "import matplotlib.pyplot as plt\n",
    "from skimage.feature import hog\n",
    "from skimage import data, color, exposure\n",
    "\n",
    "image = X_train[7]\n",
    "\n",
    "fd, hog_image = hog(image, orientations=8, pixels_per_cell=(16, 16),\n",
    "                    cells_per_block=(1, 1), visualise=True)\n",
    "\n",
    "fig, (ax1, ax2) = plt.subplots(1, 2, figsize=(8, 4), sharex=True, sharey=True)\n",
    "\n",
    "ax1.axis('off')\n",
    "ax1.imshow(image, cmap=plt.cm.gray)\n",
    "ax1.set_title('Input image')\n",
    "ax1.set_adjustable('box-forced')\n",
    "\n",
    "\n",
    "ax2.axis('off')\n",
    "ax2.imshow(hog_image, cmap=plt.cm.gray)\n",
    "ax2.set_title('Histogram of Oriented Gradients')\n",
    "ax1.set_adjustable('box-forced')\n",
    "plt.show()"
   ]
  },
  {
   "cell_type": "markdown",
   "metadata": {},
   "source": [
    "Methodology\n",
    "\n",
    "The study of whether an object is lensed or unlensed is a binary classification problem. To achieve our goal of distinguishing between lensed and unlensed objects, we choose the Logistic Regression classifier here because of its accuracy and efficiency when it comes to binary classification, and also because we do not expect the classification result to be anything more than a linear class boundary. Logistic Regression classifier fits a linear model to our training dataset and gives out each input test data's probability of belonging to one of the labels. To find the parameter that gives the best prediction, we use grid search to find out the best C value - we train a set of models that differ from each other in their parameter values, which lie on a grid, and evaluate them using test data to find which model gives the most accurate predictions.\n",
    "\n",
    "To build a model, we select only the most valuable and accessible features of the input images. In our case, we want to use the distribution (histograms) of directions of gradients (oriented gradients) as our feature. Gradients (x and y derivatives) of an image are useful because the magnitude of gradients is large around edges and corners (regions of abrupt intensity changes), and edges and corners pack in a lot more information about object shape than flat regions (object shape is important in determining if an object is lensed or unlensed). HOG works in the following way: the algorithm finds the magnitude (which fires whereever there is a sharp change in intensity) and direction of gradient at every pixel; then it creates a histogram of gradients on a smaller patch containing certain amount of pixels - a bin is selected based on the direction, and then the vote (the value that goes into the bin) is selected based on the magnitude. However, gradients of an image are sensitive to overall lighting. For example, if the image is made darker by dividing all pixel values by 2, the gradient magnitude will change by half, and therefore the histogram values will change by half. This is why we want our descriptor to be independent of lighting variations, i.e. we would like to normalize the histogram so they are not affected by variations.\n"
   ]
  }
 ],
 "metadata": {
  "kernelspec": {
   "display_name": "Python 2",
   "language": "python",
   "name": "python2"
  },
  "language_info": {
   "codemirror_mode": {
    "name": "ipython",
    "version": 2
   },
   "file_extension": ".py",
   "mimetype": "text/x-python",
   "name": "python",
   "nbconvert_exporter": "python",
   "pygments_lexer": "ipython2",
   "version": "2.7.13"
  }
 },
 "nbformat": 4,
 "nbformat_minor": 0
}
