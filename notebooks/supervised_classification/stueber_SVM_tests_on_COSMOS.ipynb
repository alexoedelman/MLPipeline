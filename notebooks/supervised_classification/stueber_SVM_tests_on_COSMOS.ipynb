import math
import matplotlib as plt
import numpy as np
import matplotlib.pyplot as plt
import pandas as pd
from sklearn import svm
from sklearn.cross_validation import train_test_split
from sklearn.metrics import precision_score
from sklearn.metrics import accuracy_score
from sklearn import metrics
from sklearn.model_selection import cross_val_score
from mpl_toolkits.mplot3d import Axes3D
from sklearn.model_selection import RandomizedSearchCV
import scipy
#Collect data and labels
frame=pd.read_csv("GSData.csv")
labels = np.array(frame['ACS_MU_CLASS|'])
mag=np.array(frame['ACS_MAG_AUTO|'])
a=np.array(frame['ACS_A_IMAGE|'])
b=np.array(frame['ACS_B_IMAGE|'])
assert(len(mag)==len(a) )
assert(len(labels)==len(mag))
area=np.empty(len(a))
for i in range(0,len(a)):
	area[i]=math.pi*a[i]*b[i]
assert(len(area)==len(labels))
features=[0]*len(area)
for i in range(0,len(area)):
	features[i]=[area[i],mag[i]]
features=np.array(features)
for i in range(0,len(labels)):
	if (labels[i]==2):
		labels[i]=0
starFeat=[]
galFeat=[]
for i in range(0,len(labels)):
	if (labels[i]==0):
		starFeat.append(features[i])
	else:
		galFeat.append(features[i])
galFeat=np.array(galFeat)
starFeat=np.array(starFeat)		
#Split Data into training and testing
X_train, X_test, y_train, y_test = train_test_split( features, labels, test_size=0.2 )
#Train the classifier and test
clf=svm.SVC(probability=True) 
clf.fit(X_train,y_train)
y_pred=clf.predict(X_test)
precision=precision_score(y_test,y_pred)
accuracy=accuracy_score(y_test,y_pred)
y_proba=clf.predict_proba(X_test)
#Find ROC curve
fpr,tpr,threshold=metrics.roc_curve(y_test,y_proba[:,1])
#Score the classifier with a 10-fold cross validation
scores=cross_val_score(clf,features,labels,cv=10)
#Plot  3D all data and how they are classified
ax=Axes3D(plt.gcf())
ax.scatter(starFeat[:,1], starFeat[:,0],clf.decision_function(starFeat),c='blue', label='star')
ax.scatter(galFeat[:,1], galFeat[:,0],clf.decision_function(galFeat),c='red',label='galaxy')
ax.set_xlabel('i Magnitude')
ax.set_ylabel('SExtractor Area')
ax.set_zlabel('Classification by SVM')
ax.set_title('Classification of all data vs Features')
plt.show()
